{
 "cells": [
  {
   "cell_type": "code",
   "execution_count": 79,
   "id": "030b23af",
   "metadata": {},
   "outputs": [],
   "source": [
    "import pyttsx3\n",
    "import pyaudio\n",
    "import speech_recognition as sr\n",
    "import webbrowser\n",
    "import datetime\n",
    "import pywhatkit\n",
    "import os\n",
    "import yfinance as yf\n",
    "import pyjokes\n",
    "import wikipedia"
   ]
  },
  {
   "cell_type": "code",
   "execution_count": 24,
   "id": "d70fd859",
   "metadata": {},
   "outputs": [],
   "source": [
    "#Listen to our microphone and return the audio as text using google\n",
    "\n",
    "def transform():\n",
    "  r = sr.Recognizer()\n",
    "  with sr.Microphone() as source:\n",
    "    r.pause_threshold = 0.8\n",
    "    said = r.listen(source)\n",
    "    try:\n",
    "        print(\"I'm listening\")\n",
    "        q = r.recognize_google(said, language=\"en\")\n",
    "        return q\n",
    "    except sr.UnknownValueError:\n",
    "      print(\"Sorry I didn't understand\")\n",
    "      return \"I'm waiting\"\n",
    "    except sr.RequestError:\n",
    "      print(\"Sorry the service is down\")\n",
    "      return \"I'm waiting\""
   ]
  },
  {
   "cell_type": "code",
   "execution_count": 25,
   "id": "c614c884",
   "metadata": {},
   "outputs": [
    {
     "name": "stdout",
     "output_type": "stream",
     "text": [
      "I'm listening\n"
     ]
    },
    {
     "data": {
      "text/plain": [
       "'hello world how are you today'"
      ]
     },
     "execution_count": 25,
     "metadata": {},
     "output_type": "execute_result"
    }
   ],
   "source": [
    "transform()"
   ]
  },
  {
   "cell_type": "code",
   "execution_count": 26,
   "id": "85b3ea33",
   "metadata": {},
   "outputs": [],
   "source": [
    "def speaking(message):\n",
    "    engine = pyttsx3.init()\n",
    "    engine.say(message)\n",
    "    engine.runAndWait()"
   ]
  },
  {
   "cell_type": "code",
   "execution_count": 35,
   "id": "ec1ea057",
   "metadata": {},
   "outputs": [],
   "source": [
    "speaking('hello world, how are you today?')"
   ]
  },
  {
   "cell_type": "code",
   "execution_count": 30,
   "id": "22897f02",
   "metadata": {},
   "outputs": [
    {
     "name": "stdout",
     "output_type": "stream",
     "text": [
      "<Voice id=HKEY_LOCAL_MACHINE\\SOFTWARE\\Microsoft\\Speech\\Voices\\Tokens\\TTS_MS_EN-US_DAVID_11.0\n",
      "          name=Microsoft David Desktop - English (United States)\n",
      "          languages=[]\n",
      "          gender=None\n",
      "          age=None>\n",
      "<Voice id=HKEY_LOCAL_MACHINE\\SOFTWARE\\Microsoft\\Speech\\Voices\\Tokens\\TTS_MS_EN-US_ZIRA_11.0\n",
      "          name=Microsoft Zira Desktop - English (United States)\n",
      "          languages=[]\n",
      "          gender=None\n",
      "          age=None>\n"
     ]
    }
   ],
   "source": [
    "engine = pyttsx3.init()\n",
    "for voice in engine.getProperty('voices'):\n",
    "    print(voice)"
   ]
  },
  {
   "cell_type": "code",
   "execution_count": 34,
   "id": "375e1e58",
   "metadata": {},
   "outputs": [],
   "source": [
    "id = 'HKEY_LOCAL_MACHINE\\SOFTWARE\\Microsoft\\Speech\\Voices\\Tokens\\TTS_MS_EN-US_ZIRA_11.0'\n",
    "engine.setProperty('voice', id)\n",
    "engine.say('Hellow World, how are you today')\n",
    "engine.runAndWait()"
   ]
  },
  {
   "cell_type": "code",
   "execution_count": 40,
   "id": "7253e92c",
   "metadata": {},
   "outputs": [],
   "source": [
    "# Return the weekday name\n",
    "def query_day():\n",
    "    day = datetime.date.today()\n",
    "#     print(day)\n",
    "    weekday = day.weekday()\n",
    "#     print(weekday)\n",
    "    mapping = {\n",
    "        0: 'Monday',\n",
    "        1: 'Tuesday',\n",
    "        2: 'Wednesday',\n",
    "        3: 'Thursday',\n",
    "        4: 'Friday',\n",
    "        5: 'Saturday',\n",
    "        6: 'Sunday'\n",
    "    }\n",
    "    try:\n",
    "        speaking(f'Today is {mapping[weekday]}')\n",
    "    except:\n",
    "        pass"
   ]
  },
  {
   "cell_type": "code",
   "execution_count": 41,
   "id": "fe94acd7",
   "metadata": {},
   "outputs": [],
   "source": [
    "query_day()"
   ]
  },
  {
   "cell_type": "code",
   "execution_count": 92,
   "id": "34eeb0ce",
   "metadata": {},
   "outputs": [],
   "source": [
    "# Return the time\n",
    "def query_time():\n",
    "    time = datetime.datetime.now().strftime(\"%I:%M:%S\")\n",
    "    speaking(f\"{time[1]} o'clock and {time[3:5]} minutes\")"
   ]
  },
  {
   "cell_type": "code",
   "execution_count": 93,
   "id": "18ae628d",
   "metadata": {},
   "outputs": [],
   "source": [
    "query_time()"
   ]
  },
  {
   "cell_type": "code",
   "execution_count": 65,
   "id": "842e486d",
   "metadata": {},
   "outputs": [],
   "source": [
    "# Intro greetings\n",
    "def whatsup():\n",
    "    speaking('''\n",
    "    Hi, I am Zira, your personal assistant.\n",
    "    How may I help you?\n",
    "    ''')"
   ]
  },
  {
   "cell_type": "code",
   "execution_count": 105,
   "id": "52953c31",
   "metadata": {},
   "outputs": [],
   "source": [
    "whatsup()"
   ]
  },
  {
   "cell_type": "code",
   "execution_count": 115,
   "id": "70ba058b",
   "metadata": {},
   "outputs": [],
   "source": [
    "# The heart of our assistant. Take queries and returns answers\n",
    "def querying():\n",
    "    whatsup()\n",
    "    start = True\n",
    "    while(start):\n",
    "        q = transform().lower()\n",
    "        \n",
    "        if 'open youtube' in q:\n",
    "            speaking('starting youtube. just a second.')\n",
    "            webbrowser.open('https://youtube.com')\n",
    "            continue\n",
    "            \n",
    "        elif 'open browser' in q:\n",
    "            speaking('opening google chrome')\n",
    "            webbrowser.open('https://google.com')\n",
    "            continue\n",
    "            \n",
    "        elif 'what day is it' in q:\n",
    "            query_day()\n",
    "            continue\n",
    "            \n",
    "        elif 'what time is it' in q:\n",
    "            query_time()\n",
    "            continue\n",
    "            \n",
    "        elif 'bye' in q:\n",
    "            speaking('okay, i am leaving')\n",
    "            break\n",
    "            \n",
    "        elif 'by' in q:\n",
    "            speaking('okay, i am leaving')\n",
    "            break\n",
    "            \n",
    "        elif \"from wikipedia\" in q:\n",
    "            speaking('checking wikipedia')\n",
    "            q = q.replace(\"wikipedia\", \"\")\n",
    "            result = wikipedia.summary(q,sentences=2)\n",
    "            speaking('found on wikipedia')\n",
    "            speaking(result)\n",
    "            continue \n",
    "            \n",
    "        elif \"what is your name\" in q:\n",
    "            speaking('I am Zira. Your virtual assistant')\n",
    "            continue \n",
    "            \n",
    "        elif \"search web\" in q:\n",
    "            pywhatkit.search(q)\n",
    "            speaking('that is what I found')\n",
    "            continue\n",
    "            \n",
    "        elif \"play\" in q:\n",
    "            speaking(f'playing {q}')\n",
    "            pywhatkit.playonyt(q)\n",
    "            continue\n",
    "            \n",
    "        elif \"tell me a joke\" in q:\n",
    "            speaking(pyjokes.get_joke())\n",
    "            continue\n",
    "            \n",
    "        elif \"stock price\" in q:\n",
    "            search = q.split(\"of\")[-1].strip()\n",
    "            lookup = {\n",
    "                'apple':'AAPL',\n",
    "                'amazon':'AMZN',\n",
    "                'google':\"GOOGL\"\n",
    "            }\n",
    "            try:\n",
    "                stock = lookup[search]\n",
    "                stock = yf.Ticker(stock)\n",
    "                currentprice = stock.info[\"regularMarketPrice\"]\n",
    "                speaking(f'found it, the price for {search} is {currentprice} dollar')\n",
    "                continue\n",
    "            except:\n",
    "                speaking(f'sorry I have no data for {search}')\n",
    "            continue"
   ]
  },
  {
   "cell_type": "code",
   "execution_count": 123,
   "id": "6d6dd05c",
   "metadata": {},
   "outputs": [
    {
     "name": "stdout",
     "output_type": "stream",
     "text": [
      "I'm listening\n",
      "I'm listening\n",
      "I'm listening\n",
      "I'm listening\n",
      "I'm listening\n",
      "I'm listening\n",
      "Sorry I didn't understand\n",
      "I'm listening\n",
      "I'm listening\n",
      "I'm listening\n",
      "I'm listening\n"
     ]
    }
   ],
   "source": [
    "querying()"
   ]
  },
  {
   "cell_type": "code",
   "execution_count": null,
   "id": "5e108df7",
   "metadata": {},
   "outputs": [],
   "source": []
  },
  {
   "cell_type": "code",
   "execution_count": null,
   "id": "7b64fa16",
   "metadata": {},
   "outputs": [],
   "source": []
  },
  {
   "cell_type": "code",
   "execution_count": null,
   "id": "36ced330",
   "metadata": {},
   "outputs": [],
   "source": []
  },
  {
   "cell_type": "code",
   "execution_count": null,
   "id": "aba13502",
   "metadata": {},
   "outputs": [],
   "source": []
  }
 ],
 "metadata": {
  "kernelspec": {
   "display_name": "Python 3 (ipykernel)",
   "language": "python",
   "name": "python3"
  },
  "language_info": {
   "codemirror_mode": {
    "name": "ipython",
    "version": 3
   },
   "file_extension": ".py",
   "mimetype": "text/x-python",
   "name": "python",
   "nbconvert_exporter": "python",
   "pygments_lexer": "ipython3",
   "version": "3.9.6"
  }
 },
 "nbformat": 4,
 "nbformat_minor": 5
}
